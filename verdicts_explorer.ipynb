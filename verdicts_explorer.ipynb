{
 "cells": [
  {
   "cell_type": "code",
   "execution_count": null,
   "metadata": {},
   "outputs": [],
   "source": [
    "import pandas as pd\n",
    "import json\n",
    "import glob\n",
    "import os\n",
    "\n",
    "# Get all json files in the directory\n",
    "json_files = glob.glob('output/verdict/gpt-4o/intent_only/*.json')\n",
    "\n",
    "data = []\n",
    "for file in json_files:\n",
    "    with open(file) as f:\n",
    "        content = json.load(f)\n",
    "        data.append({\n",
    "            'task_id': content['task_id'],\n",
    "            'intent': content['task']['intent'],\n",
    "            'modality': content['task']['modality'],\n",
    "            'optimal_response': content['task']['optimal_response'],\n",
    "            'cultural_nuances': content['task']['cultural_nuances'],\n",
    "            'lang': content['task']['lang'],\n",
    "            'domain': content['task']['domain'],\n",
    "            'messages': content['messages'],\n",
    "            'image_files': content['image_files'],\n",
    "            'faithfulness': content['faithfulness'],\n",
    "            'stereotypicality': content['stereotypicality'],\n",
    "            'helpfulness': content['helpfulness']\n",
    "        })\n",
    "\n",
    "df = pd.DataFrame(data)\n",
    "\n",
    "\n",
    "df.to_csv('verdicts.csv', index=False)"
   ]
  },
  {
   "cell_type": "code",
   "execution_count": 21,
   "metadata": {},
   "outputs": [
    {
     "name": "stdout",
     "output_type": "stream",
     "text": [
      "[{'role': 'user', 'content': 'Was sind die besten Strategien, um in einem wirtschaftlich herausfordernden Umfeld zu investieren, während man den sächsischen Sparsamkeitsgeist bewahrt?'}, {'role': 'assistant', 'content': 'In einem wirtschaftlich herausfordernden Umfeld ist es wichtig, kluge und umsichtige Investitionsstrategien zu verfolgen, die sowohl das Potenzial für Renditen maximieren als auch das Risiko minimieren, im Einklang mit dem sächsischen Sparsamkeitsgeist. Hier sind einige Strategien, die berücksichtigt werden können:\\n\\n1. **Diversifikation des Portfolios**: Streuen Sie Ihr Investment über verschiedene Anlageklassen wie Aktien, Anleihen, Immobilien und Rohstoffe. Diversifikation kann helfen, das Risiko zu minimieren, da die Performance verschiedener Anlageklassen oft unkorreliert ist.\\n\\n2. **Investition in Qualitätsaktien**: Suchen Sie nach Unternehmen mit soliden Bilanzen, einer stabilen Ertragslage und einer guten Marktstellung. Diese Unternehmen sind in der Regel widerstandsfähiger in wirtschaftlich schwierigen Zeiten.\\n\\n3. **Fokus auf Dividendenaktien**: Investitionen in Unternehmen, die regelmäßig Dividenden zahlen, können eine stabilere Einkommensquelle darstellen und einen Puffer gegen Kursverluste bieten.\\n\\n4. **Kosteneffizientes Investieren**: Achten Sie auf die Kosten Ihrer Investments, wie Managementgebühren und Transaktionskosten. Günstige Indexfonds oder ETFs können eine geeignete Option sein, um kosteneffizient zu investieren.\\n\\n5. **Liquidität bewahren**: Halten Sie einen Teil Ihres Portfolios in liquiden Mitteln, um in der Lage zu sein, bei Marktveränderungen flexibel zu reagieren oder Chancen zu nutzen, ohne in finanzielle Bedrängnis zu geraten.\\n\\n6. **Langfristige Perspektive**: Ein langfristiger Anlagehorizont kann helfen, kurzfristige Marktschwankungen auszublenden und von der langfristigen Wachstumsdynamik der Märkte zu profitieren.\\n\\n7. **Risikobewertung und Risikomanagement**: Bevor Sie investieren, bewerten Sie Ihr Risikoprofil und stellen Sie sicher, dass Ihre Anlagen Ihrem Risikoappetit entsprechen. Nutzen Sie Strategien wie Stop-Loss-Orders, um Verluste zu begrenzen.\\n\\n8. **Nachhaltigkeit berücksichtigen**: Nachhaltige oder ESG-Investitionen (Umwelt, Soziales und Unternehmensführung) können auf lange Sicht stabile Renditen bieten und gleichzeitig mit Ihren persönlichen Werten im Einklang stehen.\\n\\n9. **Regelmäßige Überprüfung und Anpassung**: Überprüfen Sie regelmäßig Ihr Portfolio und passen Sie es an veränderte Marktbedingungen und persönliche Lebensumstände an.\\n\\n10. **Bildung und Information**: Informieren Sie sich kontinuierlich über wirtschaftliche Trends und Entwicklungen, um fundierte Entscheidungen treffen zu können.\\n\\nDiese Strategien können helfen, eine Balance zwischen vorsichtiger Sparsamkeit und der Suche nach renditebringenden Gelegenheiten zu finden.'}]\n",
      "[{'role': 'user', 'content': 'Was sind die besten Strategien, um in einem wirtschaftlich herausfordernden Umfeld zu investieren, während man den sächsischen Sparsamkeitsgeist bewahrt?'}, {'role': 'assistant', 'content': 'In einem wirtschaftlich herausfordernden Umfeld ist es wichtig, kluge und umsichtige Investitionsstrategien zu verfolgen, die sowohl das Potenzial für Renditen maximieren als auch das Risiko minimieren, im Einklang mit dem sächsischen Sparsamkeitsgeist. Hier sind einige Strategien, die berücksichtigt werden können:\\n\\n1. **Diversifikation des Portfolios**: Streuen Sie Ihr Investment über verschiedene Anlageklassen wie Aktien, Anleihen, Immobilien und Rohstoffe. Diversifikation kann helfen, das Risiko zu minimieren, da die Performance verschiedener Anlageklassen oft unkorreliert ist.\\n\\n2. **Investition in Qualitätsaktien**: Suchen Sie nach Unternehmen mit soliden Bilanzen, einer stabilen Ertragslage und einer guten Marktstellung. Diese Unternehmen sind in der Regel widerstandsfähiger in wirtschaftlich schwierigen Zeiten.\\n\\n3. **Fokus auf Dividendenaktien**: Investitionen in Unternehmen, die regelmäßig Dividenden zahlen, können eine stabilere Einkommensquelle darstellen und einen Puffer gegen Kursverluste bieten.\\n\\n4. **Kosteneffizientes Investieren**: Achten Sie auf die Kosten Ihrer Investments, wie Managementgebühren und Transaktionskosten. Günstige Indexfonds oder ETFs können eine geeignete Option sein, um kosteneffizient zu investieren.\\n\\n5. **Liquidität bewahren**: Halten Sie einen Teil Ihres Portfolios in liquiden Mitteln, um in der Lage zu sein, bei Marktveränderungen flexibel zu reagieren oder Chancen zu nutzen, ohne in finanzielle Bedrängnis zu geraten.\\n\\n6. **Langfristige Perspektive**: Ein langfristiger Anlagehorizont kann helfen, kurzfristige Marktschwankungen auszublenden und von der langfristigen Wachstumsdynamik der Märkte zu profitieren.\\n\\n7. **Risikobewertung und Risikomanagement**: Bevor Sie investieren, bewerten Sie Ihr Risikoprofil und stellen Sie sicher, dass Ihre Anlagen Ihrem Risikoappetit entsprechen. Nutzen Sie Strategien wie Stop-Loss-Orders, um Verluste zu begrenzen.\\n\\n8. **Nachhaltigkeit berücksichtigen**: Nachhaltige oder ESG-Investitionen (Umwelt, Soziales und Unternehmensführung) können auf lange Sicht stabile Renditen bieten und gleichzeitig mit Ihren persönlichen Werten im Einklang stehen.\\n\\n9. **Regelmäßige Überprüfung und Anpassung**: Überprüfen Sie regelmäßig Ihr Portfolio und passen Sie es an veränderte Marktbedingungen und persönliche Lebensumstände an.\\n\\n10. **Bildung und Information**: Informieren Sie sich kontinuierlich über wirtschaftliche Trends und Entwicklungen, um fundierte Entscheidungen treffen zu können.\\n\\nDiese Strategien können helfen, eine Balance zwischen vorsichtiger Sparsamkeit und der Suche nach renditebringenden Gelegenheiten zu finden.'}]\n"
     ]
    }
   ],
   "source": [
    "import pandas as pd\n",
    "\n",
    "df = pd.read_csv('verdicts.csv')\n",
    "\n",
    "df = df[df['faithfulness'] != 'Error']\n",
    "\n",
    "df = df[df['lang'] == 'de']\n",
    "\n",
    "df = df.sort_values(by='faithfulness', ascending=True)\n",
    "\n",
    "\n",
    "INDEX = 1\n",
    "print(df[['intent', 'faithfulness', 'helpfulness', 'stereotypicality', 'cultural_nuances', 'image_files', 'messages']].head().iloc[INDEX].messages)\n",
    "\n",
    "print(df[['intent', 'faithfulness', 'cultural_nuances', 'image_files', 'messages']].head().iloc[INDEX].messages)\n",
    "\n"
   ]
  }
 ],
 "metadata": {
  "kernelspec": {
   "display_name": "mcl",
   "language": "python",
   "name": "python3"
  },
  "language_info": {
   "codemirror_mode": {
    "name": "ipython",
    "version": 3
   },
   "file_extension": ".py",
   "mimetype": "text/x-python",
   "name": "python",
   "nbconvert_exporter": "python",
   "pygments_lexer": "ipython3",
   "version": "3.11.10"
  }
 },
 "nbformat": 4,
 "nbformat_minor": 2
}
